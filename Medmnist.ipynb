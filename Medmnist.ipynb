{
  "cells": [
    {
      "cell_type": "code",
      "execution_count": null,
      "metadata": {
        "id": "LRPDpweBsvSF"
      },
      "outputs": [],
      "source": [
        "from google.colab import drive\n",
        "drive.mount('/content/drive')"
      ]
    },
    {
      "cell_type": "code",
      "execution_count": 1,
      "metadata": {
        "colab": {
          "base_uri": "https://localhost:8080/"
        },
        "id": "yv5WAH3xOqfu",
        "outputId": "e4892ae6-9e75-466b-c082-ab1d9f2cb619"
      },
      "outputs": [
        {
          "name": "stdout",
          "output_type": "stream",
          "text": [
            "Requirement already satisfied: medmnist in /usr/local/lib/python3.10/dist-packages (2.2.3)\n",
            "Requirement already satisfied: numpy in /usr/local/lib/python3.10/dist-packages (from medmnist) (1.23.5)\n",
            "Requirement already satisfied: pandas in /usr/local/lib/python3.10/dist-packages (from medmnist) (1.5.3)\n",
            "Requirement already satisfied: scikit-learn in /usr/local/lib/python3.10/dist-packages (from medmnist) (1.2.2)\n",
            "Requirement already satisfied: scikit-image in /usr/local/lib/python3.10/dist-packages (from medmnist) (0.19.3)\n",
            "Requirement already satisfied: tqdm in /usr/local/lib/python3.10/dist-packages (from medmnist) (4.66.1)\n",
            "Requirement already satisfied: Pillow in /usr/local/lib/python3.10/dist-packages (from medmnist) (9.4.0)\n",
            "Requirement already satisfied: fire in /usr/local/lib/python3.10/dist-packages (from medmnist) (0.5.0)\n",
            "Requirement already satisfied: torch in /usr/local/lib/python3.10/dist-packages (from medmnist) (2.1.0+cu121)\n",
            "Requirement already satisfied: torchvision in /usr/local/lib/python3.10/dist-packages (from medmnist) (0.16.0+cu121)\n",
            "Requirement already satisfied: six in /usr/local/lib/python3.10/dist-packages (from fire->medmnist) (1.16.0)\n",
            "Requirement already satisfied: termcolor in /usr/local/lib/python3.10/dist-packages (from fire->medmnist) (2.4.0)\n",
            "Requirement already satisfied: python-dateutil>=2.8.1 in /usr/local/lib/python3.10/dist-packages (from pandas->medmnist) (2.8.2)\n",
            "Requirement already satisfied: pytz>=2020.1 in /usr/local/lib/python3.10/dist-packages (from pandas->medmnist) (2023.3.post1)\n",
            "Requirement already satisfied: scipy>=1.4.1 in /usr/local/lib/python3.10/dist-packages (from scikit-image->medmnist) (1.11.4)\n",
            "Requirement already satisfied: networkx>=2.2 in /usr/local/lib/python3.10/dist-packages (from scikit-image->medmnist) (3.2.1)\n",
            "Requirement already satisfied: imageio>=2.4.1 in /usr/local/lib/python3.10/dist-packages (from scikit-image->medmnist) (2.31.6)\n",
            "Requirement already satisfied: tifffile>=2019.7.26 in /usr/local/lib/python3.10/dist-packages (from scikit-image->medmnist) (2023.12.9)\n",
            "Requirement already satisfied: PyWavelets>=1.1.1 in /usr/local/lib/python3.10/dist-packages (from scikit-image->medmnist) (1.5.0)\n",
            "Requirement already satisfied: packaging>=20.0 in /usr/local/lib/python3.10/dist-packages (from scikit-image->medmnist) (23.2)\n",
            "Requirement already satisfied: joblib>=1.1.1 in /usr/local/lib/python3.10/dist-packages (from scikit-learn->medmnist) (1.3.2)\n",
            "Requirement already satisfied: threadpoolctl>=2.0.0 in /usr/local/lib/python3.10/dist-packages (from scikit-learn->medmnist) (3.2.0)\n",
            "Requirement already satisfied: filelock in /usr/local/lib/python3.10/dist-packages (from torch->medmnist) (3.13.1)\n",
            "Requirement already satisfied: typing-extensions in /usr/local/lib/python3.10/dist-packages (from torch->medmnist) (4.5.0)\n",
            "Requirement already satisfied: sympy in /usr/local/lib/python3.10/dist-packages (from torch->medmnist) (1.12)\n",
            "Requirement already satisfied: jinja2 in /usr/local/lib/python3.10/dist-packages (from torch->medmnist) (3.1.2)\n",
            "Requirement already satisfied: fsspec in /usr/local/lib/python3.10/dist-packages (from torch->medmnist) (2023.6.0)\n",
            "Requirement already satisfied: triton==2.1.0 in /usr/local/lib/python3.10/dist-packages (from torch->medmnist) (2.1.0)\n",
            "Requirement already satisfied: requests in /usr/local/lib/python3.10/dist-packages (from torchvision->medmnist) (2.31.0)\n",
            "Requirement already satisfied: MarkupSafe>=2.0 in /usr/local/lib/python3.10/dist-packages (from jinja2->torch->medmnist) (2.1.3)\n",
            "Requirement already satisfied: charset-normalizer<4,>=2 in /usr/local/lib/python3.10/dist-packages (from requests->torchvision->medmnist) (3.3.2)\n",
            "Requirement already satisfied: idna<4,>=2.5 in /usr/local/lib/python3.10/dist-packages (from requests->torchvision->medmnist) (3.6)\n",
            "Requirement already satisfied: urllib3<3,>=1.21.1 in /usr/local/lib/python3.10/dist-packages (from requests->torchvision->medmnist) (2.0.7)\n",
            "Requirement already satisfied: certifi>=2017.4.17 in /usr/local/lib/python3.10/dist-packages (from requests->torchvision->medmnist) (2023.11.17)\n",
            "Requirement already satisfied: mpmath>=0.19 in /usr/local/lib/python3.10/dist-packages (from sympy->torch->medmnist) (1.3.0)\n"
          ]
        }
      ],
      "source": [
        "!pip install medmnist"
      ]
    },
    {
      "cell_type": "markdown",
      "metadata": {},
      "source": [
        "Introduction:\n",
        "Medical image classification plays a crucial role in automating diagnostic processes, aiding healthcare professionals in providing timely and accurate assessments. In this project, we leverage the MedMNIST dataset, a collection of diverse medical image datasets, to demonstrate the application of deep learning models for medical image classification.\n"
      ]
    },
    {
      "cell_type": "code",
      "execution_count": 2,
      "metadata": {
        "id": "4hzZzBpgOqfw"
      },
      "outputs": [],
      "source": [
        "from tqdm import tqdm\n",
        "import numpy as np\n",
        "import torch\n",
        "import torch.nn as nn\n",
        "import torch.optim as optim\n",
        "import torch.utils.data as data\n",
        "import torchvision.transforms as transforms\n",
        "import torchvision.models as models\n",
        "import torch.nn.functional as F\n",
        "import medmnist\n",
        "from medmnist import INFO, Evaluator\n",
        "import os\n",
        "import matplotlib.pyplot as plt\n",
        "import re"
      ]
    },
    {
      "cell_type": "markdown",
      "metadata": {},
      "source": [
        "Objective:\n",
        "The primary goal of this project is to showcase the development and evaluation of two different deep learning models, ResNet-50 and a custom convolutional neural network (CustomNet), for the classification of medical images. The MedMNIST dataset, specifically the 'bloodmnist' subset, is used to train and test these models.\n"
      ]
    },
    {
      "cell_type": "markdown",
      "metadata": {
        "id": "-yc9iheqOqfx"
      },
      "source": [
        "MedMNIST v2.2.3 @ https://github.com/MedMNIST/MedMNIST/"
      ]
    },
    {
      "cell_type": "code",
      "execution_count": 19,
      "metadata": {
        "id": "cKF15KQxOqfy"
      },
      "outputs": [],
      "source": [
        "data_flag = 'bloodmnist'\n",
        "download = True\n",
        "\n",
        "NUM_EPOCHS = 50\n",
        "BATCH_SIZE = 256\n",
        "lr = 0.0001\n",
        "\n",
        "info = INFO[data_flag]\n",
        "task = info['task']\n",
        "n_channels = info['n_channels']\n",
        "n_classes = len(info['label'])\n",
        "\n",
        "DataClass = getattr(medmnist, info['python_class'])"
      ]
    },
    {
      "cell_type": "code",
      "execution_count": 20,
      "metadata": {
        "id": "qAufve8o3T0r"
      },
      "outputs": [],
      "source": [
        "train_losses_1, train_accuracies_1 = [], []\n",
        "test_losses_1, test_accuracies_1 = [], []\n",
        "test_accuracies_str_1 = []"
      ]
    },
    {
      "cell_type": "code",
      "execution_count": 21,
      "metadata": {
        "id": "GRlMf3ZiHctq"
      },
      "outputs": [],
      "source": [
        "train_losses_2, train_accuracies_2 = [], []\n",
        "test_losses_2, test_accuracies_2 = [], []\n",
        "test_accuracies_str_2 = []"
      ]
    },
    {
      "cell_type": "markdown",
      "metadata": {
        "id": "eXMWZi6eOqfz"
      },
      "source": [
        "## First, we read the MedMNIST data, preprocess them and encapsulate them into dataloader form."
      ]
    },
    {
      "cell_type": "markdown",
      "metadata": {},
      "source": [
        "Data Preprocessing:\n",
        "We begin by loading and preprocessing the MedMNIST 'bloodmnist' dataset, transforming the\n",
        "\n",
        "images into a suitable format for training. The data is split into training and testing sets, and appropriate data loaders are created for efficient processing.\n",
        "\n"
      ]
    },
    {
      "cell_type": "code",
      "execution_count": 22,
      "metadata": {
        "colab": {
          "base_uri": "https://localhost:8080/"
        },
        "id": "05vWpH81Oqfz",
        "outputId": "f9016a4b-e197-4801-a889-d8d7ab80cc27"
      },
      "outputs": [
        {
          "name": "stdout",
          "output_type": "stream",
          "text": [
            "Using downloaded and verified file: /root/.medmnist/bloodmnist.npz\n",
            "Using downloaded and verified file: /root/.medmnist/bloodmnist.npz\n",
            "Using downloaded and verified file: /root/.medmnist/bloodmnist.npz\n"
          ]
        }
      ],
      "source": [
        "# preprocessing\n",
        "data_transform = transforms.Compose([\n",
        "    transforms.ToTensor(),\n",
        "    transforms.Normalize(mean=[.5], std=[.5])\n",
        "])\n",
        "\n",
        "# load the data\n",
        "train_dataset = DataClass(split='train', transform=data_transform, download=download)\n",
        "test_dataset = DataClass(split='test', transform=data_transform, download=download)\n",
        "\n",
        "pil_dataset = DataClass(split='train', download=download)\n",
        "\n",
        "# encapsulate data into dataloader form\n",
        "train_loader = data.DataLoader(dataset=train_dataset, batch_size=BATCH_SIZE, shuffle=True)\n",
        "train_loader_at_eval = data.DataLoader(dataset=train_dataset, batch_size=2*BATCH_SIZE, shuffle=False)\n",
        "test_loader = data.DataLoader(dataset=test_dataset, batch_size=2*BATCH_SIZE, shuffle=False)"
      ]
    },
    {
      "cell_type": "code",
      "execution_count": 8,
      "metadata": {
        "colab": {
          "base_uri": "https://localhost:8080/"
        },
        "id": "UsihdNmYOqf0",
        "outputId": "01e1cdc6-dad7-4c73-ae98-b531bb69c997"
      },
      "outputs": [
        {
          "name": "stdout",
          "output_type": "stream",
          "text": [
            "Dataset BloodMNIST (bloodmnist)\n",
            "    Number of datapoints: 11959\n",
            "    Root location: /root/.medmnist\n",
            "    Split: train\n",
            "    Task: multi-class\n",
            "    Number of channels: 3\n",
            "    Meaning of labels: {'0': 'basophil', '1': 'eosinophil', '2': 'erythroblast', '3': 'immature granulocytes(myelocytes, metamyelocytes and promyelocytes)', '4': 'lymphocyte', '5': 'monocyte', '6': 'neutrophil', '7': 'platelet'}\n",
            "    Number of samples: {'train': 11959, 'val': 1712, 'test': 3421}\n",
            "    Description: The BloodMNIST is based on a dataset of individual normal cells, captured from individuals without infection, hematologic or oncologic disease and free of any pharmacologic treatment at the moment of blood collection. It contains a total of 17,092 images and is organized into 8 classes. We split the source dataset with a ratio of 7:1:2 into training, validation and test set. The source images with resolution 3×360×363 pixels are center-cropped into 3×200×200, and then resized into 3×28×28.\n",
            "    License: CC BY 4.0\n",
            "===================\n",
            "Dataset BloodMNIST (bloodmnist)\n",
            "    Number of datapoints: 3421\n",
            "    Root location: /root/.medmnist\n",
            "    Split: test\n",
            "    Task: multi-class\n",
            "    Number of channels: 3\n",
            "    Meaning of labels: {'0': 'basophil', '1': 'eosinophil', '2': 'erythroblast', '3': 'immature granulocytes(myelocytes, metamyelocytes and promyelocytes)', '4': 'lymphocyte', '5': 'monocyte', '6': 'neutrophil', '7': 'platelet'}\n",
            "    Number of samples: {'train': 11959, 'val': 1712, 'test': 3421}\n",
            "    Description: The BloodMNIST is based on a dataset of individual normal cells, captured from individuals without infection, hematologic or oncologic disease and free of any pharmacologic treatment at the moment of blood collection. It contains a total of 17,092 images and is organized into 8 classes. We split the source dataset with a ratio of 7:1:2 into training, validation and test set. The source images with resolution 3×360×363 pixels are center-cropped into 3×200×200, and then resized into 3×28×28.\n",
            "    License: CC BY 4.0\n"
          ]
        }
      ],
      "source": [
        "print(train_dataset)\n",
        "print(\"===================\")\n",
        "print(test_dataset)"
      ]
    },
    {
      "cell_type": "markdown",
      "metadata": {
        "id": "Fgg1YjmvOqf0"
      },
      "source": [
        "## Then, we define a simple model for illustration, object function and optimizer that we use to classify."
      ]
    },
    {
      "cell_type": "markdown",
      "metadata": {},
      "source": [
        "Model Architecture:\n",
        "Two distinct models are implemented for the classification task: ResNet-50 and a custom convolutional neural network (CustomNet). ResNet-50 is a pre-trained model known for its excellent performance on various image classification tasks. CustomNet, on the other hand, is a specifically designed architecture for this project.\n"
      ]
    },
    {
      "cell_type": "code",
      "execution_count": 23,
      "metadata": {
        "colab": {
          "base_uri": "https://localhost:8080/"
        },
        "id": "0QQuYhwDOqf1",
        "outputId": "3ca20dfd-a8f6-4ea3-e0a9-d0d262290023"
      },
      "outputs": [
        {
          "name": "stdout",
          "output_type": "stream",
          "text": [
            "cuda\n"
          ]
        },
        {
          "name": "stderr",
          "output_type": "stream",
          "text": [
            "/usr/local/lib/python3.10/dist-packages/torchvision/models/_utils.py:208: UserWarning: The parameter 'pretrained' is deprecated since 0.13 and may be removed in the future, please use 'weights' instead.\n",
            "  warnings.warn(\n",
            "/usr/local/lib/python3.10/dist-packages/torchvision/models/_utils.py:223: UserWarning: Arguments other than a weight enum or `None` for 'weights' are deprecated since 0.13 and may be removed in the future. The current behavior is equivalent to passing `weights=ResNet50_Weights.IMAGENET1K_V1`. You can also use `weights=ResNet50_Weights.DEFAULT` to get the most up-to-date weights.\n",
            "  warnings.warn(msg)\n"
          ]
        }
      ],
      "source": [
        "#Def_Res50\n",
        "\n",
        "def get_device():\n",
        "    return 'cuda' if torch.cuda.is_available() else 'cpu'\n",
        "\n",
        "device = get_device()\n",
        "print(device)\n",
        "\n",
        "def res50_model(num_classes, feature_extract = False, use_pretrained=True):\n",
        "\n",
        "    model_ft = models.resnet50(pretrained=use_pretrained)\n",
        "    #set_parameter_requires_grad(model_ft, feature_extract)\n",
        "    num_ftrs = model_ft.fc.in_features\n",
        "    model_ft.fc = nn.Sequential(nn.Linear(num_ftrs, num_classes))\n",
        "\n",
        "    return model_ft\n",
        "\n",
        "model = res50_model(num_classes=n_classes)\n",
        "model.to(device)\n",
        "\n",
        "# define loss function and optimizer\n",
        "if task == \"multi-label, binary-class\":\n",
        "    criterion = nn.BCEWithLogitsLoss()\n",
        "else:\n",
        "    criterion = nn.CrossEntropyLoss()\n",
        "\n",
        "optimizer = optim.Adam(model.parameters(), lr=lr)#, momentum=0.9)"
      ]
    },
    {
      "cell_type": "markdown",
      "metadata": {},
      "source": [
        "Evaluation:\n",
        "\n",
        "After training, the models are evaluated on both the training and testing sets. Metrics such as area under the curve (AUC) and accuracy are computed to assess the models' performance. The MedMNIST Evaluator class is utilized to obtain these metrics.\n"
      ]
    },
    {
      "cell_type": "code",
      "execution_count": 24,
      "metadata": {
        "id": "onSxw1SdOqf2"
      },
      "outputs": [],
      "source": [
        "#Eval_Res50\n",
        "def test(split):\n",
        "    model.eval()\n",
        "    y_true = torch.tensor([])\n",
        "    y_score = torch.tensor([])\n",
        "    y_true = y_true.to(device)\n",
        "    y_score = y_score.to(device)\n",
        "\n",
        "    #print(y_true.is_cuda,y_score.is_cuda)\n",
        "\n",
        "    data_loader = train_loader_at_eval if split == 'train' else test_loader\n",
        "\n",
        "    with torch.no_grad():\n",
        "        for inputs, targets in data_loader:\n",
        "            inputs = inputs.cuda(non_blocking=True)\n",
        "            targets = targets.cuda(non_blocking=True)\n",
        "            outputs = model(inputs)\n",
        "\n",
        "            if task == 'multi-label, binary-class':\n",
        "                targets = targets.to(torch.float32)\n",
        "                outputs = outputs.softmax(dim=-1)\n",
        "            else:\n",
        "                targets = targets.squeeze().long()\n",
        "                outputs = outputs.softmax(dim=-1)\n",
        "                targets = targets.float().resize_(len(targets), 1)\n",
        "\n",
        "            y_true.to(device)\n",
        "            y_score.to(device)\n",
        "            y_true = torch.cat((y_true, targets), 0)\n",
        "            y_score = torch.cat((y_score, outputs), 0)\n",
        "\n",
        "        y_true = y_true.cpu().numpy()\n",
        "        y_score = y_score.detach().cpu().numpy()\n",
        "\n",
        "        evaluator = Evaluator(data_flag, split)\n",
        "        metrics = evaluator.evaluate(y_score)\n",
        "\n",
        "        print('%s  auc: %.3f  acc:%.3f' % (split, *metrics))\n",
        "        numbers = re.findall(r'\\d+.\\d+', str(metrics))\n",
        "        print(numbers)\n",
        "        if split == 'test':\n",
        "          test_losses_1.append(numbers[0])\n",
        "          test_accuracies_str_1.append(numbers[1])\n",
        "\n"
      ]
    },
    {
      "cell_type": "markdown",
      "metadata": {},
      "source": [
        "Training:\n",
        "The training process involves iterating through the dataset for multiple epochs, optimizing the model parameters using the Adam optimizer for ResNet-50 and SGD for CustomNet. Learning rate adjustments are made during training to enhance model performance. Both models are periodically saved to facilitate later analysis.\n"
      ]
    },
    {
      "cell_type": "code",
      "execution_count": null,
      "metadata": {
        "colab": {
          "base_uri": "https://localhost:8080/"
        },
        "id": "QIzsRJy3Oqf1",
        "outputId": "d2e8d8c6-52d8-4619-c992-9d26a66cc22d"
      },
      "outputs": [
        {
          "name": "stderr",
          "output_type": "stream",
          "text": [
            "100%|██████████| 47/47 [00:05<00:00,  7.83it/s]\n"
          ]
        },
        {
          "name": "stdout",
          "output_type": "stream",
          "text": [
            "==> Evaluating ...\n",
            "train  auc: 0.991  acc:0.905\n",
            "['0.9912018461605302', '0.9054268751567857']\n",
            "test  auc: 0.986  acc:0.873\n",
            "['0.9861534497035696', '0.8731365097924584']\n"
          ]
        },
        {
          "name": "stderr",
          "output_type": "stream",
          "text": [
            "100%|██████████| 47/47 [00:05<00:00,  7.91it/s]\n"
          ]
        },
        {
          "name": "stdout",
          "output_type": "stream",
          "text": [
            "==> Evaluating ...\n",
            "train  auc: 0.999  acc:0.973\n",
            "['0.9990743541082', '0.972991052763609']\n",
            "test  auc: 0.992  acc:0.905\n",
            "['0.9917817439907848', '0.9052908506284713']\n"
          ]
        },
        {
          "name": "stderr",
          "output_type": "stream",
          "text": [
            "100%|██████████| 47/47 [00:05<00:00,  7.91it/s]\n"
          ]
        },
        {
          "name": "stdout",
          "output_type": "stream",
          "text": [
            "==> Evaluating ...\n",
            "train  auc: 1.000  acc:0.991\n",
            "['0.9999104478357975', '0.9909691445773058']\n",
            "test  auc: 0.994  acc:0.921\n",
            "['0.9939492382802091', '0.9210757088570594']\n"
          ]
        },
        {
          "name": "stderr",
          "output_type": "stream",
          "text": [
            "100%|██████████| 47/47 [00:05<00:00,  7.85it/s]\n"
          ]
        },
        {
          "name": "stdout",
          "output_type": "stream",
          "text": [
            "==> Evaluating ...\n",
            "train  auc: 1.000  acc:0.989\n",
            "['0.99986779056583', '0.9892967639434735']\n",
            "test  auc: 0.991  acc:0.915\n",
            "['0.9909974577337415', '0.9152294650686934']\n"
          ]
        },
        {
          "name": "stderr",
          "output_type": "stream",
          "text": [
            "100%|██████████| 47/47 [00:06<00:00,  7.78it/s]\n"
          ]
        },
        {
          "name": "stdout",
          "output_type": "stream",
          "text": [
            "==> Evaluating ...\n",
            "train  auc: 1.000  acc:0.994\n",
            "['0.9999374264878839', '0.9941466677815871']\n",
            "test  auc: 0.993  acc:0.921\n",
            "['0.9929905816924963', '0.9210757088570594']\n"
          ]
        },
        {
          "name": "stderr",
          "output_type": "stream",
          "text": [
            "100%|██████████| 47/47 [00:06<00:00,  7.78it/s]\n"
          ]
        },
        {
          "name": "stdout",
          "output_type": "stream",
          "text": [
            "==> Evaluating ...\n",
            "train  auc: 1.000  acc:0.994\n",
            "['0.9999572360599043', '0.9944811439083535']\n",
            "test  auc: 0.992  acc:0.920\n",
            "['0.9917543562647371', '0.9199064600993861']\n"
          ]
        },
        {
          "name": "stderr",
          "output_type": "stream",
          "text": [
            "100%|██████████| 47/47 [00:06<00:00,  7.78it/s]\n"
          ]
        },
        {
          "name": "stdout",
          "output_type": "stream",
          "text": [
            "==> Evaluating ...\n",
            "train  auc: 1.000  acc:0.996\n",
            "['0.9999847308264214', '0.9955681913203445']\n",
            "test  auc: 0.994  acc:0.926\n",
            "['0.9938578871726278', '0.9263373282665888']\n"
          ]
        },
        {
          "name": "stderr",
          "output_type": "stream",
          "text": [
            "100%|██████████| 47/47 [00:06<00:00,  7.72it/s]\n"
          ]
        },
        {
          "name": "stdout",
          "output_type": "stream",
          "text": [
            "==> Evaluating ...\n",
            "train  auc: 1.000  acc:0.987\n",
            "['0.9998787287968618', '0.9866209549293419']\n",
            "test  auc: 0.991  acc:0.915\n",
            "['0.9914347052223856', '0.9146448406898567']\n"
          ]
        },
        {
          "name": "stderr",
          "output_type": "stream",
          "text": [
            "100%|██████████| 47/47 [00:06<00:00,  7.66it/s]\n"
          ]
        },
        {
          "name": "stdout",
          "output_type": "stream",
          "text": [
            "==> Evaluating ...\n",
            "train  auc: 1.000  acc:0.994\n",
            "['0.9999779512077864', '0.9939794297182039']\n",
            "test  auc: 0.993  acc:0.923\n",
            "['0.9929955233181453', '0.9234142063724057']\n"
          ]
        },
        {
          "name": "stderr",
          "output_type": "stream",
          "text": [
            "100%|██████████| 47/47 [00:06<00:00,  7.65it/s]\n"
          ]
        },
        {
          "name": "stdout",
          "output_type": "stream",
          "text": [
            "==> Evaluating ...\n",
            "train  auc: 1.000  acc:0.997\n",
            "['0.999983418800955', '0.996738857764027']\n",
            "test  auc: 0.994  acc:0.929\n",
            "['0.9936226829887725', '0.9289681379713534']\n"
          ]
        },
        {
          "name": "stderr",
          "output_type": "stream",
          "text": [
            "100%|██████████| 47/47 [00:06<00:00,  7.24it/s]\n"
          ]
        },
        {
          "name": "stdout",
          "output_type": "stream",
          "text": [
            "==> Evaluating ...\n",
            "train  auc: 1.000  acc:0.997\n",
            "['0.9999852355461875', '0.99740781001756']\n",
            "test  auc: 0.992  acc:0.929\n",
            "['0.9922225191388991', '0.9292604501607717']\n"
          ]
        },
        {
          "name": "stderr",
          "output_type": "stream",
          "text": [
            "100%|██████████| 47/47 [00:06<00:00,  7.60it/s]\n"
          ]
        },
        {
          "name": "stdout",
          "output_type": "stream",
          "text": [
            "==> Evaluating ...\n",
            "train  auc: 1.000  acc:0.999\n",
            "['0.999993908139303', '0.9987457145246258']\n",
            "test  auc: 0.995  acc:0.935\n",
            "['0.9946866031109419', '0.9348143817597194']\n"
          ]
        },
        {
          "name": "stderr",
          "output_type": "stream",
          "text": [
            "100%|██████████| 47/47 [00:06<00:00,  7.57it/s]\n"
          ]
        },
        {
          "name": "stdout",
          "output_type": "stream",
          "text": [
            "==> Evaluating ...\n",
            "train  auc: 1.000  acc:0.999\n",
            "['0.9999985228977436', '0.9989965716197007']\n",
            "test  auc: 0.994  acc:0.931\n",
            "['0.9942312253446219', '0.9307220111078632']\n"
          ]
        },
        {
          "name": "stderr",
          "output_type": "stream",
          "text": [
            "100%|██████████| 47/47 [00:06<00:00,  7.38it/s]\n"
          ]
        },
        {
          "name": "stdout",
          "output_type": "stream",
          "text": [
            "==> Evaluating ...\n",
            "train  auc: 1.000  acc:0.999\n",
            "['0.9999980125867768', '0.9987457145246258']\n",
            "test  auc: 0.994  acc:0.931\n",
            "['0.9944619045757994', '0.9313066354866998']\n"
          ]
        },
        {
          "name": "stderr",
          "output_type": "stream",
          "text": [
            "100%|██████████| 47/47 [00:06<00:00,  7.48it/s]\n"
          ]
        },
        {
          "name": "stdout",
          "output_type": "stream",
          "text": [
            "==> Evaluating ...\n",
            "train  auc: 1.000  acc:1.000\n",
            "['0.9999999496366365', '0.9998327619366167']\n",
            "test  auc: 0.994  acc:0.935\n",
            "['0.9941371125491008', '0.9351066939491377']\n"
          ]
        },
        {
          "name": "stderr",
          "output_type": "stream",
          "text": [
            "100%|██████████| 47/47 [00:06<00:00,  7.49it/s]\n"
          ]
        },
        {
          "name": "stdout",
          "output_type": "stream",
          "text": [
            "==> Evaluating ...\n",
            "train  auc: 1.000  acc:0.999\n",
            "['0.9999993003917087', '0.9991638096830838']\n",
            "test  auc: 0.994  acc:0.937\n",
            "['0.9943317699847727', '0.9371528792750657']\n"
          ]
        },
        {
          "name": "stderr",
          "output_type": "stream",
          "text": [
            "100%|██████████| 47/47 [00:06<00:00,  7.50it/s]\n"
          ]
        },
        {
          "name": "stdout",
          "output_type": "stream",
          "text": [
            "==> Evaluating ...\n",
            "train  auc: 1.000  acc:0.996\n",
            "['0.9999844426934265', '0.9964043816372606']\n",
            "test  auc: 0.994  acc:0.931\n",
            "['0.9935808393168395', '0.9310143232972815']\n"
          ]
        },
        {
          "name": "stderr",
          "output_type": "stream",
          "text": [
            "100%|██████████| 47/47 [00:06<00:00,  7.48it/s]\n"
          ]
        },
        {
          "name": "stdout",
          "output_type": "stream",
          "text": [
            "==> Evaluating ...\n",
            "train  auc: 1.000  acc:0.998\n",
            "['0.9999847367225453', '0.9977422861443265']\n",
            "test  auc: 0.991  acc:0.933\n",
            "['0.9908644278226783', '0.9333528208126279']\n"
          ]
        },
        {
          "name": "stderr",
          "output_type": "stream",
          "text": [
            "100%|██████████| 47/47 [00:06<00:00,  7.46it/s]\n"
          ]
        },
        {
          "name": "stdout",
          "output_type": "stream",
          "text": [
            "==> Evaluating ...\n",
            "train  auc: 1.000  acc:0.996\n",
            "['0.9999855609195876', '0.9964880006689523']\n",
            "test  auc: 0.992  acc:0.930\n",
            "['0.9923246858752376', '0.9301373867290266']\n"
          ]
        },
        {
          "name": "stderr",
          "output_type": "stream",
          "text": [
            "100%|██████████| 47/47 [00:06<00:00,  7.42it/s]\n"
          ]
        },
        {
          "name": "stdout",
          "output_type": "stream",
          "text": [
            "==> Evaluating ...\n",
            "train  auc: 1.000  acc:0.999\n",
            "['0.9999976383610129', '0.9987457145246258']\n",
            "test  auc: 0.993  acc:0.932\n",
            "['0.9931030794203051', '0.9318912598655364']\n"
          ]
        },
        {
          "name": "stderr",
          "output_type": "stream",
          "text": [
            "100%|██████████| 47/47 [00:06<00:00,  7.43it/s]\n"
          ]
        },
        {
          "name": "stdout",
          "output_type": "stream",
          "text": [
            "==> Evaluating ...\n",
            "train  auc: 1.000  acc:0.997\n",
            "['0.9999944864511982', '0.9970733338907936']\n",
            "test  auc: 0.993  acc:0.931\n",
            "['0.9929598411063832', '0.9313066354866998']\n"
          ]
        },
        {
          "name": "stderr",
          "output_type": "stream",
          "text": [
            "100%|██████████| 47/47 [00:06<00:00,  7.44it/s]\n"
          ]
        },
        {
          "name": "stdout",
          "output_type": "stream",
          "text": [
            "==> Evaluating ...\n",
            "train  auc: 1.000  acc:0.997\n",
            "['0.9999955891890432', '0.9970733338907936']\n",
            "test  auc: 0.994  acc:0.935\n",
            "['0.9935837275639648', '0.935399006138556']\n"
          ]
        },
        {
          "name": "stderr",
          "output_type": "stream",
          "text": [
            "100%|██████████| 47/47 [00:06<00:00,  7.40it/s]\n"
          ]
        },
        {
          "name": "stdout",
          "output_type": "stream",
          "text": [
            "==> Evaluating ...\n",
            "train  auc: 1.000  acc:0.999\n",
            "['0.9999980916106652', '0.9985784764612425']\n",
            "test  auc: 0.994  acc:0.937\n",
            "['0.993961944684343', '0.9368605670856475']\n"
          ]
        },
        {
          "name": "stderr",
          "output_type": "stream",
          "text": [
            "100%|██████████| 47/47 [00:07<00:00,  6.61it/s]\n"
          ]
        },
        {
          "name": "stdout",
          "output_type": "stream",
          "text": [
            "==> Evaluating ...\n",
            "train  auc: 1.000  acc:0.997\n",
            "['0.9999965876946967', '0.9971569529224852']\n",
            "test  auc: 0.993  acc:0.932\n",
            "['0.9933517053621898', '0.9318912598655364']\n"
          ]
        },
        {
          "name": "stderr",
          "output_type": "stream",
          "text": [
            "100%|██████████| 47/47 [00:10<00:00,  4.68it/s]\n"
          ]
        },
        {
          "name": "stdout",
          "output_type": "stream",
          "text": [
            "==> Evaluating ...\n",
            "train  auc: 1.000  acc:0.999\n",
            "['0.9999952314035062', '0.9991638096830838']\n",
            "test  auc: 0.993  acc:0.939\n",
            "['0.993427085158138', '0.9391990646009939']\n"
          ]
        },
        {
          "name": "stderr",
          "output_type": "stream",
          "text": [
            "100%|██████████| 47/47 [00:08<00:00,  5.58it/s]\n"
          ]
        },
        {
          "name": "stdout",
          "output_type": "stream",
          "text": [
            "==> Evaluating ...\n",
            "train  auc: 1.000  acc:0.999\n",
            "['0.9999988012885246', '0.9986620954929342']\n",
            "test  auc: 0.993  acc:0.937\n",
            "['0.9934858325942764', '0.9371528792750657']\n"
          ]
        },
        {
          "name": "stderr",
          "output_type": "stream",
          "text": [
            "100%|██████████| 47/47 [00:09<00:00,  4.92it/s]\n"
          ]
        },
        {
          "name": "stdout",
          "output_type": "stream",
          "text": [
            "==> Evaluating ...\n",
            "train  auc: 1.000  acc:0.998\n",
            "['0.9999928721042668', '0.9979931432394012']\n",
            "test  auc: 0.994  acc:0.932\n",
            "['0.9935399257743236', '0.9321835720549547']\n"
          ]
        },
        {
          "name": "stderr",
          "output_type": "stream",
          "text": [
            "100%|██████████| 47/47 [00:07<00:00,  6.09it/s]\n"
          ]
        },
        {
          "name": "stdout",
          "output_type": "stream",
          "text": [
            "==> Evaluating ...\n",
            "train  auc: 1.000  acc:0.999\n",
            "['0.9999974688398532', '0.9987457145246258']\n",
            "test  auc: 0.994  acc:0.939\n",
            "['0.9939505966757887', '0.9394913767904122']\n"
          ]
        },
        {
          "name": "stderr",
          "output_type": "stream",
          "text": [
            "100%|██████████| 47/47 [00:06<00:00,  7.53it/s]\n"
          ]
        },
        {
          "name": "stdout",
          "output_type": "stream",
          "text": [
            "==> Evaluating ...\n",
            "train  auc: 1.000  acc:1.000\n",
            "['0.9999999161071383', '0.999581904841542']\n",
            "test  auc: 0.993  acc:0.937\n",
            "['0.9933608445529416', '0.9371528792750657']\n"
          ]
        },
        {
          "name": "stderr",
          "output_type": "stream",
          "text": [
            "100%|██████████| 47/47 [00:06<00:00,  7.53it/s]\n"
          ]
        },
        {
          "name": "stdout",
          "output_type": "stream",
          "text": [
            "==> Evaluating ...\n",
            "train  auc: 1.000  acc:0.999\n",
            "['0.9999995711759302', '0.9994146667781587']\n",
            "test  auc: 0.994  acc:0.933\n",
            "['0.9936137404251629', '0.9327681964337913']\n"
          ]
        },
        {
          "name": "stderr",
          "output_type": "stream",
          "text": [
            "100%|██████████| 47/47 [00:06<00:00,  7.53it/s]\n"
          ]
        },
        {
          "name": "stdout",
          "output_type": "stream",
          "text": [
            "==> Evaluating ...\n",
            "train  auc: 1.000  acc:1.000\n",
            "['0.9999996996118833', '0.9996655238732336']\n",
            "test  auc: 0.994  acc:0.940\n",
            "['0.9940279784663327', '0.9397836889798304']\n"
          ]
        },
        {
          "name": "stderr",
          "output_type": "stream",
          "text": [
            "100%|██████████| 47/47 [00:06<00:00,  7.52it/s]\n"
          ]
        },
        {
          "name": "stdout",
          "output_type": "stream",
          "text": [
            "==> Evaluating ...\n",
            "train  auc: 1.000  acc:1.000\n",
            "['0.9999998369467508', '0.9996655238732336']\n",
            "test  auc: 0.994  acc:0.941\n",
            "['0.9941842122978616', '0.9412452499269219']\n"
          ]
        },
        {
          "name": "stderr",
          "output_type": "stream",
          "text": [
            "100%|██████████| 47/47 [00:06<00:00,  7.42it/s]\n"
          ]
        },
        {
          "name": "stdout",
          "output_type": "stream",
          "text": [
            "==> Evaluating ...\n",
            "train  auc: 1.000  acc:1.000\n",
            "['0.9999999894052443', '0.9999163809683084']\n",
            "test  auc: 0.995  acc:0.947\n",
            "['0.9946255316797117', '0.9470914937152879']\n"
          ]
        }
      ],
      "source": [
        "#Train_Res50\n",
        "\n",
        "for epoch in range(NUM_EPOCHS):\n",
        "    if epoch>=50:\n",
        "        lr=lr*0.9\n",
        "        if epoch>=75:\n",
        "            li=lr*0.9\n",
        "    train_correct_1 = 0\n",
        "    train_total_1 = 0\n",
        "    test_correct_1 = 0\n",
        "    test_total_1 = 0\n",
        "\n",
        "\n",
        "    model.train()\n",
        "    for inputs, targets in tqdm(train_loader):\n",
        "        # forward + backward + optimize\n",
        "        inputs = inputs.cuda(non_blocking=True)\n",
        "        targets = targets.cuda(non_blocking=True)\n",
        "        optimizer.zero_grad()\n",
        "        outputs = model(inputs)\n",
        "\n",
        "        if task == 'multi-label, binary-class':\n",
        "            targets = targets.to(torch.float32)\n",
        "            loss = criterion(outputs, targets)\n",
        "            train_correct_1 += ((outputs > 0.5).int() == targets.int()).sum().item()\n",
        "        else:\n",
        "            targets = targets.squeeze().long()\n",
        "            loss = criterion(outputs, targets)\n",
        "            # Calculate the number of correct predictions\n",
        "        _, predicted = outputs.max(1)\n",
        "        train_correct_1 += predicted.eq(targets).sum().item()\n",
        "\n",
        "        loss.backward()\n",
        "        optimizer.step()\n",
        "        train_total_1 += targets.size(0)\n",
        "    train_losses_1.append(loss.item())\n",
        "    train_accuracies_1.append(100 * train_correct_1 / train_total_1)\n",
        "\n",
        "    # torch.save(model.state_dict(), os.path.join('/content/drive/MyDrive/models/res50/epoch2', f'model_epoch_{epoch}.pth'))\n",
        "    print('==> Evaluating ...')\n",
        "    test('train')\n",
        "    test('test')"
      ]
    },
    {
      "cell_type": "code",
      "execution_count": 51,
      "metadata": {
        "id": "Ndrjs0e_IZRI"
      },
      "outputs": [],
      "source": [
        "# train_losses_1 = [0.2965623438358307, 0.5020853877067566, 0.20724588632583618, 0.051739852875471115, 0.09301935136318207, 0.17974478006362915, 0.22320367395877838, 0.02241840586066246, 0.15153539180755615, 0.2231033742427826, 0.005696703679859638, 0.0014020429225638509, 0.002388478722423315, 0.08553943037986755, 0.12587183713912964, 0.0025290879420936108, 0.1808146834373474, 0.010288416408002377, 0.004406203515827656, 0.01923081837594509, 0.08202265948057175, 0.004699950106441975, 0.0016130226431414485, 0.015542185865342617, 0.007165119517594576, 0.08210696280002594, 0.008862234652042389, 0.03051607497036457, 0.003904307261109352, 0.00048159260768443346, 0.005480058956891298, 0.001496233162470162, 0.0004561508249025792, 0.0015635535819455981, 0.004747390281409025, 0.0032101788092404604, 0.0012806524755433202, 0.0016655087238177657, 0.026798639446496964, 0.00070557976141572, 0.0004140756500419229, 0.03901415690779686, 0.00024850727641023695, 4.4912161683896556e-05, 0.00027800348470918834, 0.00023169713676907122, 0.0006228742422536016, 0.0006370077026076615, 0.00023499797680415213, 0.0016373504186049104, 0.0036056407261639833]\n",
        "# train_accuracies_1 = [79.91470858767455, 79.83108955598294, 90.78518270758424, 93.89581068651225, 95.02466761434903, 96.28731499289238, 97.06497198762439, 97.88443849820219, 97.7088385316498, 97.91788611087884, 98.32761936616774, 98.1185717869387, 98.68718120244168, 98.79588594364077, 98.69554310561084, 98.87950497533238, 98.97984781336233, 99.19725729576051, 99.01329542603897, 99.30596203695961, 99.2892382306213, 99.02165732920813, 99.18889539259135, 99.47320010034284, 99.36449535914375, 98.88786687850154, 99.481562003512, 99.2641525211138, 99.38958106865122, 99.56518103520361, 99.40630487498954, 99.481562003512, 99.18053348942219, 99.57354293837277, 99.45647629400452, 99.52337151935781, 99.47320010034284, 99.481562003512, 99.30596203695961, 99.740781001756, 99.49828580985032, 99.62371435738774, 99.74914290492516, 99.84112383978594, 99.71569529224851, 99.36449535914375, 99.75750480809432, 99.6571619700644, 99.64880006689522, 99.57354293837277, 99.17217158625303]\n",
        "# test_accuracies_str_1 = ['0.9143525285004385', '0.9009061677871967', '0.932475884244373', '0.9356913183279743', '0.9427068108740134', '0.9348143817597194', '0.9403683133586671', '0.9447529961999416', '0.9409529377375037', '0.9409529377375037', '0.9462145571470331', '0.9365682548962292', '0.9365682548962292', '0.9386144402221572', '0.9380298158433207', '0.9485530546623794', '0.949137679041216', '0.9444606840105232', '0.9450453083893599', '0.9479684302835428', '0.9473838059047063', '0.9406606255480854', '0.9456299327681964', '0.9371528792750657', '0.9500146156094709', '0.9465068693364513', '0.9514761765565624', '0.9403683133586671', '0.9386144402221572', '0.9476761180941246', '0.9473838059047063', '0.9447529961999416', '0.9511838643671441', '0.9371528792750657', '0.9444606840105232', '0.9462145571470331', '0.9482607424729611', '0.9462145571470331', '0.9505992399883075', '0.9541069862613271', '0.9470914937152879', '0.9561531715872552', '0.9508915521777258', '0.9485530546623794', '0.9438760596316866', '0.9447529961999416', '0.9389067524115756', '0.9450453083893599', '0.9473838059047063', '0.9485530546623794', '0.9462145571470331']"
      ]
    },
    {
      "cell_type": "code",
      "execution_count": 73,
      "metadata": {
        "colab": {
          "base_uri": "https://localhost:8080/"
        },
        "id": "kgQrwSMyEpxH",
        "outputId": "576a2dda-71ed-4563-fd2d-b4237a342899"
      },
      "outputs": [
        {
          "name": "stdout",
          "output_type": "stream",
          "text": [
            "[0.41634392738342285, 0.1388690024614334, 0.12349177896976471, 0.05146703124046326, 0.026921715587377548]\n",
            "[69.78008194665105, 91.98929676394347, 97.45798143657497, 98.54502884856593, 99.19725729576051]\n",
            "['0.8447822274188833', '0.9105524700380005', '0.9166910260157849', '0.9134755919321835', '0.9178602747734581']\n"
          ]
        }
      ],
      "source": [
        "print(train_losses_1)\n",
        "print(train_accuracies_1)\n",
        "print(test_accuracies_str_1)"
      ]
    },
    {
      "cell_type": "code",
      "execution_count": 72,
      "metadata": {
        "colab": {
          "base_uri": "https://localhost:8080/",
          "height": 507
        },
        "id": "zJvJNf-zLbMw",
        "outputId": "a2beb9e4-aeb9-4e4c-f846-63e69020fa9a"
      },
      "outputs": [
        {
          "data": {
            "image/png": "[encoded data removed]",
            "text/plain": [
              "<Figure size 1200x500 with 2 Axes>"
            ]
          },
          "metadata": {},
          "output_type": "display_data"
        }
      ],
      "source": [
        "test_accuracies_1 = [float(value) * 100 for value in test_accuracies_str_1]\n",
        "\n",
        "epochs = list(range(1, len(train_losses_1) + 1))\n",
        "\n",
        "# Plotting train losses\n",
        "plt.figure(figsize=(12, 5))\n",
        "\n",
        "plt.subplot(1, 2, 1)  # (rows, columns, panel number)\n",
        "plt.plot(epochs, train_losses_1, label='Train Loss', color='red')\n",
        "plt.xlabel('Epochs')\n",
        "plt.ylabel('Loss')\n",
        "plt.title('Training Loss Over Epochs')\n",
        "plt.legend()\n",
        "\n",
        "# Plotting train and test accuracies\n",
        "plt.subplot(1, 2, 2)\n",
        "plt.plot(epochs, train_accuracies_1, label='Train Accuracy', color='blue')\n",
        "plt.plot(epochs, test_accuracies_1, label='Test Accuracy', color='green')\n",
        "plt.xlabel('Epochs')\n",
        "plt.ylabel('Accuracy (%)')\n",
        "plt.title('Training & Test Accuracy')\n",
        "plt.legend()\n",
        "\n",
        "plt.tight_layout()\n",
        "plt.show()"
      ]
    },
    {
      "cell_type": "code",
      "execution_count": null,
      "metadata": {
        "id": "RCyEmni6SxRP"
      },
      "outputs": [],
      "source": [
        "torch.save(model, os.path.join('/content/drive/MyDrive/models/res50', 'complete_model.pth'))"
      ]
    },
    {
      "cell_type": "code",
      "execution_count": 64,
      "metadata": {
        "id": "5T_UFIPrOqf2"
      },
      "outputs": [],
      "source": [
        "#Def_CustomNet\n",
        "\n",
        "device = torch.device('cuda' if torch.cuda.is_available() else 'cpu')\n",
        "\n",
        "class Net(nn.Module):\n",
        "    def __init__(self, in_channels, num_classes):\n",
        "        super(Net, self).__init__()\n",
        "\n",
        "        self.layer1 = nn.Sequential(\n",
        "            nn.Conv2d(in_channels, 16, kernel_size=3),\n",
        "            nn.BatchNorm2d(16),\n",
        "            nn.ReLU())\n",
        "\n",
        "        self.layer2 = nn.Sequential(\n",
        "            nn.Conv2d(16, 16, kernel_size=3),\n",
        "            nn.BatchNorm2d(16),\n",
        "            nn.ReLU(),\n",
        "            nn.MaxPool2d(kernel_size=2, stride=2))\n",
        "\n",
        "        self.layer3 = nn.Sequential(\n",
        "            nn.Conv2d(16, 64, kernel_size=3),\n",
        "            nn.BatchNorm2d(64),\n",
        "            nn.ReLU())\n",
        "\n",
        "        self.layer4 = nn.Sequential(\n",
        "            nn.Conv2d(64, 64, kernel_size=3),\n",
        "            nn.BatchNorm2d(64),\n",
        "            nn.ReLU())\n",
        "\n",
        "        self.layer5 = nn.Sequential(\n",
        "            nn.Conv2d(64, 64, kernel_size=3, padding=1),\n",
        "            nn.BatchNorm2d(64),\n",
        "            nn.ReLU(),\n",
        "            nn.MaxPool2d(kernel_size=2, stride=2))\n",
        "\n",
        "        self.fc = nn.Sequential(\n",
        "            nn.Linear(64 * 4 * 4, 128),\n",
        "            nn.ReLU(),\n",
        "            nn.Linear(128, 128),\n",
        "            nn.ReLU(),\n",
        "            nn.Linear(128, num_classes))\n",
        "\n",
        "    def forward(self, x):\n",
        "        x = self.layer1(x)\n",
        "        x = self.layer2(x)\n",
        "        x = self.layer3(x)\n",
        "        x = self.layer4(x)\n",
        "        x = self.layer5(x)\n",
        "        x = x.view(x.size(0), -1)\n",
        "        x = self.fc(x)\n",
        "        return x\n",
        "\n",
        "model = Net(in_channels=n_channels, num_classes=n_classes).to(device)\n",
        "\n",
        "# define loss function and optimizer\n",
        "if task == \"multi-label, binary-class\":\n",
        "    criterion = nn.BCEWithLogitsLoss()\n",
        "else:\n",
        "    criterion = nn.CrossEntropyLoss()\n",
        "\n",
        "optimizer = optim.SGD(model.parameters(), lr=lr, momentum=0.9)"
      ]
    },
    {
      "cell_type": "code",
      "execution_count": 65,
      "metadata": {
        "id": "3ZuQxuXaOqf3"
      },
      "outputs": [],
      "source": [
        "# Eval_customNet\n",
        "\n",
        "def test(split):\n",
        "    model.eval()\n",
        "    y_true = torch.tensor([]).to(device)\n",
        "    y_score = torch.tensor([]).to(device)\n",
        "\n",
        "    data_loader = train_loader_at_eval if split == 'train' else test_loader\n",
        "\n",
        "    with torch.no_grad():\n",
        "        for inputs, targets in data_loader:\n",
        "            inputs, targets = inputs.to(device), targets.to(device)\n",
        "            outputs = model(inputs)\n",
        "\n",
        "            if task == 'multi-label, binary-class':\n",
        "                targets = targets.to(torch.float32)\n",
        "                outputs = torch.sigmoid(outputs) if criterion == nn.BCEWithLogitsLoss else outputs\n",
        "            else:\n",
        "                targets = targets.squeeze().long()\n",
        "                outputs = outputs.softmax(dim=-1)\n",
        "                targets = targets.float().resize_(len(targets), 1)\n",
        "\n",
        "\n",
        "            y_true = torch.cat((y_true.cpu(), targets.cpu()), 0)\n",
        "            y_score = torch.cat((y_score.cpu(), outputs.cpu()), 0)\n",
        "\n",
        "        y_true = y_true.numpy()\n",
        "        y_score = y_score.detach().numpy()\n",
        "\n",
        "        evaluator = Evaluator(data_flag, split)\n",
        "        metrics = evaluator.evaluate(y_score)\n",
        "        print('%s  auc: %.3f  acc:%.3f' % (split, *metrics))\n",
        "        numbers = re.findall(r'\\d+.\\d+', str(metrics))\n",
        "        if split == 'test':\n",
        "          test_losses_2.append(numbers[0])\n",
        "          test_accuracies_str_2.append(numbers[1])\n"
      ]
    },
    {
      "cell_type": "code",
      "execution_count": 77,
      "metadata": {
        "colab": {
          "base_uri": "https://localhost:8080/"
        },
        "id": "cBEmJczEOqf3",
        "outputId": "cc78d34f-5e8d-4c74-fe93-1bc3eb4c9364",
        "scrolled": true
      },
      "outputs": [
        {
          "name": "stderr",
          "output_type": "stream",
          "text": [
            "100%|██████████| 38/38 [00:02<00:00, 13.68it/s]\n"
          ]
        },
        {
          "name": "stdout",
          "output_type": "stream",
          "text": [
            "==> Evaluating ...\n",
            "train  auc: 0.862  acc:0.492\n",
            "['0.8616843874157432', '0.49193076344175934']\n",
            "test  auc: 0.865  acc:0.502\n",
            "['0.8650716304394892', '0.5021923414206373']\n"
          ]
        },
        {
          "name": "stderr",
          "output_type": "stream",
          "text": [
            "100%|██████████| 38/38 [00:03<00:00, 12.52it/s]\n"
          ]
        },
        {
          "name": "stdout",
          "output_type": "stream",
          "text": [
            "==> Evaluating ...\n",
            "train  auc: 0.875  acc:0.529\n",
            "['0.8746410237740883', '0.5293920896396019']\n",
            "test  auc: 0.877  acc:0.540\n",
            "['0.8772978000096461', '0.5401929260450161']\n"
          ]
        },
        {
          "name": "stderr",
          "output_type": "stream",
          "text": [
            "100%|██████████| 38/38 [00:02<00:00, 14.01it/s]\n"
          ]
        },
        {
          "name": "stdout",
          "output_type": "stream",
          "text": [
            "==> Evaluating ...\n",
            "train  auc: 0.885  acc:0.556\n",
            "['0.8854134394599356', '0.5563174178443013']\n",
            "test  auc: 0.888  acc:0.562\n",
            "['0.8875311664707435', '0.5618240280619702']\n"
          ]
        },
        {
          "name": "stderr",
          "output_type": "stream",
          "text": [
            "100%|██████████| 38/38 [00:03<00:00, 12.38it/s]\n"
          ]
        },
        {
          "name": "stdout",
          "output_type": "stream",
          "text": [
            "==> Evaluating ...\n",
            "train  auc: 0.895  acc:0.569\n",
            "['0.8952870709333388', '0.5692783677565014']\n",
            "test  auc: 0.897  acc:0.575\n",
            "['0.8967784305165951', '0.5746857643963753']\n"
          ]
        },
        {
          "name": "stderr",
          "output_type": "stream",
          "text": [
            "100%|██████████| 38/38 [00:02<00:00, 13.45it/s]\n"
          ]
        },
        {
          "name": "stdout",
          "output_type": "stream",
          "text": [
            "==> Evaluating ...\n",
            "train  auc: 0.903  acc:0.584\n",
            "['0.9034031594999545', '0.5839116983025336']\n",
            "test  auc: 0.904  acc:0.582\n",
            "['0.9043020197390028', '0.5817012569424145']\n"
          ]
        }
      ],
      "source": [
        "# Train_CustomNet\n",
        "epoch_num = 0\n",
        "for epoch in range(NUM_EPOCHS):\n",
        "    train_correct_2 = 0\n",
        "    train_total_2 = 0\n",
        "    test_correct_2 = 0\n",
        "    test_total_2 = 0\n",
        "\n",
        "    model.train()\n",
        "    for inputs, targets in tqdm(train_loader):\n",
        "        inputs, targets = inputs.to(device), targets.to(device)\n",
        "        # forward + backward + optimize\n",
        "        optimizer.zero_grad()\n",
        "        outputs = model(inputs)\n",
        "\n",
        "        if task == 'multi-label, binary-class':\n",
        "            targets = targets.to(torch.float32)\n",
        "            loss = criterion(outputs, targets)\n",
        "            train_correct_2 += ((outputs > 0.5).int() == targets.int()).sum().item()\n",
        "        else:\n",
        "            targets = targets.squeeze().long()\n",
        "            loss = criterion(outputs, targets)\n",
        "        _, predicted = outputs.max(1)\n",
        "        train_correct_2 += predicted.eq(targets).sum().item()\n",
        "\n",
        "        loss.backward()\n",
        "        optimizer.step()\n",
        "        train_total_2 += targets.size(0)\n",
        "    train_losses_2.append(loss.item())\n",
        "    train_accuracies_2.append(100 * train_correct_2 / train_total_2)\n",
        "    # torch.save(model.state_dict(), os.path.join('/content/drive/MyDrive/models/CustomNet/epoch2', f'model_epoch_{epoch}.pth'))\n",
        "    epoch_num += 1\n",
        "    print(epoch_num)\n",
        "    print('==> Evaluating ...')\n",
        "    test('train')\n",
        "    test('test')"
      ]
    },
    {
      "cell_type": "code",
      "execution_count": 78,
      "metadata": {
        "colab": {
          "base_uri": "https://localhost:8080/"
        },
        "id": "Oi-vvsyYUpc5",
        "outputId": "8403c6f9-31a4-41a9-a29d-51d534290272"
      },
      "outputs": [
        {
          "name": "stdout",
          "output_type": "stream",
          "text": [
            "[1.87507963180542, 1.7894277572631836, 1.7690788507461548, 1.6792954206466675, 1.6193010807037354]\n",
            "[47.09423864871645, 51.09122836357555, 54.260389664687686, 56.17526549042562, 57.75566518939711]\n",
            "['0.5021923414206373', '0.5401929260450161', '0.5618240280619702', '0.5746857643963753', '0.5817012569424145']\n"
          ]
        }
      ],
      "source": [
        "print(train_losses_2)\n",
        "print(train_accuracies_2)\n",
        "print(test_accuracies_str_2)"
      ]
    },
    {
      "cell_type": "code",
      "execution_count": 79,
      "metadata": {
        "colab": {
          "base_uri": "https://localhost:8080/",
          "height": 507
        },
        "id": "jI0zGfN9KSSg",
        "outputId": "90ba57d1-0505-4417-c780-df80fbcd38c9"
      },
      "outputs": [
        {
          "data": {
            "image/png": "[encoded data removed]",
            "text/plain": [
              "<Figure size 1200x500 with 2 Axes>"
            ]
          },
          "metadata": {},
          "output_type": "display_data"
        }
      ],
      "source": [
        "test_accuracies_2 = [float(value) * 100 for value in test_accuracies_str_2]\n",
        "\n",
        "epochs = list(range(1, len(train_losses_2) + 1))\n",
        "\n",
        "# Plotting train losses\n",
        "plt.figure(figsize=(12, 5))\n",
        "\n",
        "plt.subplot(1, 2, 1)  # (rows, columns, panel number)\n",
        "plt.plot(epochs, train_losses_2, label='Train Loss', color='red')\n",
        "plt.xlabel('Epochs')\n",
        "plt.ylabel('Loss')\n",
        "plt.title('Training Loss Over Epochs')\n",
        "plt.legend()\n",
        "\n",
        "# Plotting train and test accuracies\n",
        "plt.subplot(1, 2, 2)\n",
        "plt.plot(epochs, train_accuracies_2, label='Train Accuracy', color='blue')\n",
        "plt.plot(epochs, test_accuracies_2, label='Test Accuracy', color='green')\n",
        "plt.xlabel('Epochs')\n",
        "plt.ylabel('Accuracy (%)')\n",
        "plt.title('Training & Test Accuracy')\n",
        "plt.legend()\n",
        "\n",
        "plt.tight_layout()\n",
        "plt.show()"
      ]
    },
    {
      "cell_type": "markdown",
      "metadata": {},
      "source": [
        "Results:\n",
        "The evaluation results provide insights into the effectiveness of the ResNet-50 and CustomNet models in classifying blood cell images. The achieved AUC and accuracy metrics demonstrate the models' ability to learn and generalize from the dataset.\n"
      ]
    },
    {
      "cell_type": "markdown",
      "metadata": {},
      "source": [
        "Conclusion:\n",
        "This project showcases the application of deep learning techniques to medical image classification using the MedMNIST dataset. The utilization of ResNet-50 and a custom CNN highlights the versatility of deep learning models in handling diverse medical image datasets. The obtained results contribute to the ongoing efforts to integrate AI technologies into healthcare for more accurate and efficient diagnostics.\n"
      ]
    },
    {
      "cell_type": "markdown",
      "metadata": {},
      "source": [
        "**Future Work:\n",
        "Future work may involve fine-tuning the models, exploring transfer learning techniques, and experimenting with other deep learning architectures. Additionally, incorporating larger and more diverse medical image datasets could further enhance the models' performance and generalization capabilities.\n",
        "\n",
        "In conclusion, this project serves as a stepping stone for researchers and practitioners interested in leveraging deep learning for medical image classification, with a focus on the MedMNIST dataset and two different model architectures.\n",
        "**"
      ]
    }
  ],
  "metadata": {
    "accelerator": "GPU",
    "colab": {
      "gpuType": "T4",
      "provenance": []
    },
    "kernelspec": {
      "display_name": "Python 3",
      "name": "python3"
    },
    "language_info": {
      "codemirror_mode": {
        "name": "ipython",
        "version": 3
      },
      "file_extension": ".py",
      "mimetype": "text/x-python",
      "name": "python",
      "nbconvert_exporter": "python",
      "pygments_lexer": "ipython3",
      "version": "3.11.4"
    }
  },
  "nbformat": 4,
  "nbformat_minor": 0
}
